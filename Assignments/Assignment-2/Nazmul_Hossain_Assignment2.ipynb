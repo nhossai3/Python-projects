{
 "cells": [
  {
   "cell_type": "code",
   "execution_count": null,
   "metadata": {},
   "outputs": [],
   "source": [
    "\"\"\"  Nazmul Hossain, Peoplesoft ID: 1591454\n",
    "\n",
    "     Program #1: Sharing the bill\n",
    "\n",
    "     212 Scientific Programming with Python\n",
    "\n",
    "     This program computes individual shares of a restaurant bill. \"\"\""
   ]
  },
  {
   "cell_type": "code",
   "execution_count": null,
   "metadata": {},
   "outputs": [],
   "source": [
    "name1 = input(\"Enter your name:\")\n",
    "name2 = input(\"Enter name of friend:\")\n",
    "name3 = input(\"Enter name of friend:\")\n",
    "name4 = input(\"Enter name of friend:\")\n",
    "name5 = input(\"Enter name of friend:\")\n",
    "\n",
    "bill1 = input(\"\\nEnter bill of \"+ name1 + \":\")\n",
    "fbill1 = float(bill1)\n",
    "\n",
    "bill2 = input(\"Enter bill of \"+ name2 + \":\")\n",
    "fbill2 = float(bill2)\n",
    "\n",
    "bill3 = input(\"Enter bill of \"+ name3 + \":\")\n",
    "fbill3 = float(bill3)\n",
    "\n",
    "bill4 = input(\"Enter bill of \"+ name4 + \":\")\n",
    "fbill4 = float(bill4)\n",
    "\n",
    "bill5 = input(\"Enter bill of \"+ name5 + \":\")\n",
    "fbill5 = float(bill5)\n",
    "\n",
    "print(\"\\nName of friends: \" +name1+ \", \" +name2+ \", \" +name3+ \", \" +name4+ \", \" +name5+ \"\")\n",
    "print(\"Individual bills: \" +bill1+ \", \" +bill2+ \", \" +bill3+ \", \" +bill4+ \", \" +bill5+ \"\")\n",
    "\n",
    "tip = input(\"\\nEnter tip percentage:\")\n",
    "ftip = float(tip)\n",
    "ftip = ftip/100\n",
    "\n",
    "total = fbill1 + fbill2 + fbill3 + fbill4 + fbill5\n",
    "total = total * (1+ftip)\n",
    "print(\"\\nTotal bill plus tip: $\", total)\n",
    "\n",
    "indv_bill = total/5\n",
    "print(\"Each of us must pay: $\", indv_bill)"
   ]
  }
 ],
 "metadata": {
  "kernelspec": {
   "display_name": "Python 3",
   "language": "python",
   "name": "python3"
  },
  "language_info": {
   "codemirror_mode": {
    "name": "ipython",
    "version": 3
   },
   "file_extension": ".py",
   "mimetype": "text/x-python",
   "name": "python",
   "nbconvert_exporter": "python",
   "pygments_lexer": "ipython3",
   "version": "3.6.9"
  }
 },
 "nbformat": 4,
 "nbformat_minor": 2
}

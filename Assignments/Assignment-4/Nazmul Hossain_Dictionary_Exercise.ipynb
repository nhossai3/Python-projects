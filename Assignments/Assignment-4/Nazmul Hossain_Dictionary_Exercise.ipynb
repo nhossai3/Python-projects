{
 "cells": [
  {
   "cell_type": "markdown",
   "metadata": {},
   "source": [
    "###### 1. Write a python program that will find the longest word in a file. The program should print the word and the number of characters in that word. Hint you would be using dictionaries, string module, and files for this exercise. The file for this exercise is ‘TomSawyer.txt’"
   ]
  },
  {
   "cell_type": "code",
   "execution_count": 1,
   "metadata": {},
   "outputs": [],
   "source": [
    "def find_longest_word(filename):\n",
    "    file = open(filename)\n",
    "    content = file.read()\n",
    "    \n",
    "    \n",
    "    import string\n",
    "    a = list(string.printable)\n",
    "    for i in string.ascii_lowercase:\n",
    "        a.remove(i)\n",
    "    for i in a:\n",
    "        content = content.replace(i, \" \")\n",
    "   \n",
    "    words = content.split()\n",
    "    l = len(words)    \n",
    "    p = 0\n",
    "    for i in range(0,l):\n",
    "        q = len(words[i])\n",
    "        if(q>p):\n",
    "            p = q\n",
    "    \n",
    "    for i in range(0,l):\n",
    "        if(len(words[i]) == p):\n",
    "           print(\" \"+ words[i] +\" has \"+ str(p) +\" characters\")"
   ]
  },
  {
   "cell_type": "code",
   "execution_count": 2,
   "metadata": {},
   "outputs": [
    {
     "name": "stdout",
     "output_type": "stream",
     "text": [
      " foretopmaststuns has 16 characters\n",
      " unenforceability has 16 characters\n"
     ]
    }
   ],
   "source": [
    "find_longest_word('TomSawyer.txt')"
   ]
  }
 ],
 "metadata": {
  "kernelspec": {
   "display_name": "Python 3",
   "language": "python",
   "name": "python3"
  },
  "language_info": {
   "codemirror_mode": {
    "name": "ipython",
    "version": 3
   },
   "file_extension": ".py",
   "mimetype": "text/x-python",
   "name": "python",
   "nbconvert_exporter": "python",
   "pygments_lexer": "ipython3",
   "version": "3.6.9"
  }
 },
 "nbformat": 4,
 "nbformat_minor": 4
}

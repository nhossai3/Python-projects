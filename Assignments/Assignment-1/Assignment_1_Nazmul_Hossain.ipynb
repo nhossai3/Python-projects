{
 "cells": [
  {
   "cell_type": "markdown",
   "metadata": {},
   "source": [
    "# Assignment 1\n",
    "######  In the problems below replace pass with python statements that solves the problem"
   ]
  },
  {
   "cell_type": "markdown",
   "metadata": {},
   "source": [
    "#### 1. Write a single Python statement that will print the following message to the screen:  I’m super excited about computer science"
   ]
  },
  {
   "cell_type": "code",
   "execution_count": 1,
   "metadata": {},
   "outputs": [
    {
     "name": "stdout",
     "output_type": "stream",
     "text": [
      "I'm super excited about computer science\n"
     ]
    }
   ],
   "source": [
    "def my_message():\n",
    "    \n",
    "    print(\"I'm super excited about computer science\")\n",
    "\n",
    "my_message()"
   ]
  },
  {
   "cell_type": "markdown",
   "metadata": {},
   "source": [
    "#### 2. Complete the function that creates a variable called day and assign the value Wednesday. What is the data type for that variable?"
   ]
  },
  {
   "cell_type": "code",
   "execution_count": 5,
   "metadata": {},
   "outputs": [
    {
     "name": "stdout",
     "output_type": "stream",
     "text": [
      "<class 'str'>\n"
     ]
    }
   ],
   "source": [
    "def my_type():\n",
    "    \n",
    "    day = \"Wednesday\"\n",
    "    print(type(day))\n",
    "\n",
    "my_type()\n",
    " \n"
   ]
  },
  {
   "cell_type": "markdown",
   "metadata": {},
   "source": [
    "#### 3. Request the user to type his/her first name and assign it to a variable called first_name. Then request the user to type his/her last name and store in variable last_name. Then print the following message (in a single line): Hi <first name> <last name>, how’s it going?"
   ]
  },
  {
   "cell_type": "code",
   "execution_count": 7,
   "metadata": {},
   "outputs": [
    {
     "name": "stdout",
     "output_type": "stream",
     "text": [
      "Please type your first name: Nazmul\n",
      "Please type your last name: Hossain\n",
      "Hi, Nazmul Hossain how's it going?\n"
     ]
    }
   ],
   "source": [
    "def my_message2():\n",
    "    \n",
    "    first_name = input(\"Please type your first name: \")\n",
    "    last_name = input(\"Please type your last name: \")\n",
    "    print(\"Hi, \"+ first_name +\" \"+ last_name +\" how's it going?\")\n",
    "my_message2()"
   ]
  },
  {
   "cell_type": "markdown",
   "metadata": {},
   "source": [
    "##### 4. Request the user for their birth year and compute his/her age. Send a message to the screen with the age.\n",
    " "
   ]
  },
  {
   "cell_type": "code",
   "execution_count": 25,
   "metadata": {},
   "outputs": [
    {
     "name": "stdout",
     "output_type": "stream",
     "text": [
      "Please enter your birth year: 1989\n",
      "Your are 31 years old\n"
     ]
    }
   ],
   "source": [
    "def my_message3():\n",
    "    \n",
    "    birth_yr = int(input(\"Please enter your birth year: \"))\n",
    "    current_yr = int(2020)\n",
    "    age = str(current_yr - birth_yr)\n",
    "    print(\"Your are \"+ age +\" years old\")\n",
    "    \n",
    "my_message3()"
   ]
  },
  {
   "cell_type": "markdown",
   "metadata": {},
   "source": [
    "#### 5. Calculate the time it will take a runner to run a 10 miler with the following pace segments: the first mile at a pace of 8.5 minutes per mile, the following 4 miles at a pace of 8.15 minutes per mile, the following 4 miles at a pace of 8.10 and the last mile back at a relaxed pace of 8.5 minutes per mile.  "
   ]
  },
  {
   "cell_type": "code",
   "execution_count": 28,
   "metadata": {},
   "outputs": [
    {
     "name": "stdout",
     "output_type": "stream",
     "text": [
      "It will take the runner 80 minutes\n"
     ]
    }
   ],
   "source": [
    "def my_total_miles():\n",
    "    \n",
    "    mile_0_1 = int(8.5)\n",
    "    t_mile_0_1 = int(1 * mile_0_1)\n",
    "    mile_2_5 = int(8.15)\n",
    "    t_mile_2_5 = int(4 * mile_2_5)\n",
    "    mile_6_9 = int(8.10)\n",
    "    t_mile_6_9 = int(4 * mile_6_9)\n",
    "    mile_10 = int(8.5)\n",
    "    t_mile_10 = int(1 * mile_10)\n",
    "    \n",
    "    total_time = str(t_mile_0_1 + t_mile_2_5 + t_mile_6_9 + t_mile_10)\n",
    "    print(\"It will take the runner \"+ total_time +\" minutes\")\n",
    "\n",
    "my_total_miles()"
   ]
  }
 ],
 "metadata": {
  "kernelspec": {
   "display_name": "Python 3",
   "language": "python",
   "name": "python3"
  },
  "language_info": {
   "codemirror_mode": {
    "name": "ipython",
    "version": 3
   },
   "file_extension": ".py",
   "mimetype": "text/x-python",
   "name": "python",
   "nbconvert_exporter": "python",
   "pygments_lexer": "ipython3",
   "version": "3.6.9"
  }
 },
 "nbformat": 4,
 "nbformat_minor": 2
}

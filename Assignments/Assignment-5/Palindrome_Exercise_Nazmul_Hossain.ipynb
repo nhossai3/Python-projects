{
 "cells": [
  {
   "cell_type": "markdown",
   "metadata": {},
   "source": [
    "#### Finding Palindromes\n",
    "\n",
    "Write a program that takes a string as input and identifies and prints if it is a\n",
    "\n",
    "palindrome or not. (A palindrome is a string that is identical when read forward or\n",
    "\n",
    "backward E.g. racecar, abba)\n",
    "\n",
    "Hint: You can try to use negative indices in For or While loop. See example uses below.\n",
    "\n",
    "is_palindrome(\"abba\")\n",
    "True\n",
    "\n",
    "is_palindrome(\"cat\")\n",
    "False"
   ]
  },
  {
   "cell_type": "code",
   "execution_count": 11,
   "metadata": {},
   "outputs": [],
   "source": [
    "def is_palindrome(my_word):\n",
    "    l = len(my_word)\n",
    "    \n",
    "    nit = int(l/2)\n",
    "    for i in range(0, nit):\n",
    "        if(my_word[i] != my_word[l-1-i]):\n",
    "            return False\n",
    "    return True"
   ]
  },
  {
   "cell_type": "code",
   "execution_count": 14,
   "metadata": {},
   "outputs": [
    {
     "data": {
      "text/plain": [
       "True"
      ]
     },
     "execution_count": 14,
     "metadata": {},
     "output_type": "execute_result"
    }
   ],
   "source": [
    "is_palindrome(\"abba\")"
   ]
  },
  {
   "cell_type": "code",
   "execution_count": 15,
   "metadata": {},
   "outputs": [
    {
     "data": {
      "text/plain": [
       "False"
      ]
     },
     "execution_count": 15,
     "metadata": {},
     "output_type": "execute_result"
    }
   ],
   "source": [
    "is_palindrome(\"cat\")"
   ]
  }
 ],
 "metadata": {
  "kernelspec": {
   "display_name": "Python 3",
   "language": "python",
   "name": "python3"
  },
  "language_info": {
   "codemirror_mode": {
    "name": "ipython",
    "version": 3
   },
   "file_extension": ".py",
   "mimetype": "text/x-python",
   "name": "python",
   "nbconvert_exporter": "python",
   "pygments_lexer": "ipython3",
   "version": "3.6.9"
  }
 },
 "nbformat": 4,
 "nbformat_minor": 4
}

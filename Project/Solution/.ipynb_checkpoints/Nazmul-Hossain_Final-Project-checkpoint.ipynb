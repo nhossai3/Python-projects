{
 "cells": [
  {
   "cell_type": "markdown",
   "metadata": {},
   "source": [
    "# Nazmul Hossain\n",
    "# Peoplesoft ID: 1591454"
   ]
  },
  {
   "cell_type": "markdown",
   "metadata": {},
   "source": [
    "# Problem 01"
   ]
  },
  {
   "cell_type": "code",
   "execution_count": 87,
   "metadata": {},
   "outputs": [],
   "source": [
    "def easyCrypto(code):\n",
    "    \n",
    "    import string\n",
    "    p = list(string.ascii_lowercase)  #lowecase letter list\n",
    "    q = list(string.ascii_uppercase)  #uppercaseletter list\n",
    "    \n",
    "    new_code = ''  #empty new output\n",
    "    for i in code:\n",
    "        \n",
    "        # For lowercase letters\n",
    "        if i in p:\n",
    "            m = p.index(i) + 1     #finding index of the alphabet\n",
    "            if (m % 2) != 0:       #uneven\n",
    "                new_code += p[m]   #appending new encrypted string\n",
    "            else:                  #even\n",
    "                new_code += p[m-2]\n",
    "        \n",
    "        # For uppercase letters\n",
    "        else:\n",
    "            m = q.index(i) + 1\n",
    "            if (m % 2) != 0:       #uneven\n",
    "                new_code += q[m]   #appending new encrypted string\n",
    "            else:                  #even\n",
    "                new_code += q[m-2]\n",
    "    print(new_code)                #printing new encrypted srting"
   ]
  },
  {
   "cell_type": "code",
   "execution_count": 88,
   "metadata": {},
   "outputs": [
    {
     "name": "stdout",
     "output_type": "stream",
     "text": [
      "bad\n"
     ]
    }
   ],
   "source": [
    "easyCrypto('abc')"
   ]
  },
  {
   "cell_type": "markdown",
   "metadata": {},
   "source": [
    "# Problem 02"
   ]
  },
  {
   "cell_type": "code",
   "execution_count": 89,
   "metadata": {},
   "outputs": [],
   "source": [
    "def game(n):\n",
    "    \n",
    "    from numpy import random    #importing random\n",
    "    \n",
    "    correct = 0   #initializing number of correct answers\n",
    "    for i in range (n):\n",
    "        a = random.randint(0,10)   #random number generation\n",
    "        b = random.randint(0,10)\n",
    "        ans = eval(input(str(a) +\" + \"+str(b)+\" = \"))   #taking answer as input\n",
    "        p = a + b   #evaluating actual answer\n",
    "\n",
    "        if ans == p:  #condition for correct answer\n",
    "            print(\"Correct\")\n",
    "            correct += 1\n",
    "        else:\n",
    "            print(\"Incorrect\")\n",
    "    print(\"You have got \"+ str(correct) +\" correct answers, out of \"+ str(n))\n",
    "    "
   ]
  },
  {
   "cell_type": "code",
   "execution_count": 90,
   "metadata": {},
   "outputs": [
    {
     "name": "stdout",
     "output_type": "stream",
     "text": [
      "2 + 2 = 4\n",
      "Correct\n",
      "3 + 9 = 8\n",
      "Incorrect\n",
      "1 + 1 = 2\n",
      "Correct\n",
      "You have got 2 correct answers, out of 3\n"
     ]
    }
   ],
   "source": [
    "game(3)"
   ]
  },
  {
   "cell_type": "markdown",
   "metadata": {},
   "source": [
    "# Problem 03"
   ]
  },
  {
   "cell_type": "code",
   "execution_count": 91,
   "metadata": {},
   "outputs": [],
   "source": [
    "def networks(n, s):\n",
    "    \n",
    "    a = list(range(0,n))   #list of students\n",
    "    \n",
    "    b = set()  #initializing a set to avoid repitition of same number\n",
    "    c = []\n",
    "    for j in a:  #checking for each student\n",
    "        for i in range(len(s)):   #checking in all elements of list\n",
    "            if j in s[i]:\n",
    "                b.add(s[i][0])   #adding to the set\n",
    "                b.add(s[i][1])\n",
    "                d = list(b)   #converting set b to list for processing\n",
    "        c.append(list(b))   #list of relationship for each student\n",
    "        b = set()   #resetting b for next student\n",
    "    \n",
    "    e = []  #initialize\n",
    "    g = []\n",
    "    for i in a:\n",
    "        for j in range(len(c)):\n",
    "            if i in c[j]:\n",
    "                e.insert(0, c[j])  #creating a list for each student\n",
    "\n",
    "        count = 0\n",
    "        f = []\n",
    "        for q in e:   #finding the maximum relationship of each student\n",
    "            if len(q) > count:\n",
    "                f = q\n",
    "                count = len(q)\n",
    "        e = []\n",
    "        \n",
    "        if f not in g:   #taking the common relationship elements\n",
    "            g.append(f)\n",
    "    for i in range(len(g)):\n",
    "        print(\"Social network \"+ str(i) +\" is \"+ str(g[i]))  #printing the social network"
   ]
  },
  {
   "cell_type": "code",
   "execution_count": 92,
   "metadata": {},
   "outputs": [
    {
     "name": "stdout",
     "output_type": "stream",
     "text": [
      "Social network 0 is [0, 1, 2]\n",
      "Social network 1 is [3, 4]\n"
     ]
    }
   ],
   "source": [
    "networks(5, [(0,1), (1,2), (3,4)])"
   ]
  },
  {
   "cell_type": "markdown",
   "metadata": {},
   "source": [
    "# Problem 04"
   ]
  },
  {
   "cell_type": "code",
   "execution_count": 93,
   "metadata": {},
   "outputs": [],
   "source": [
    "def trapezint1(f,a,b):\n",
    "    h = (b-a)/2\n",
    "    s = f(a) + f(b)\n",
    "    area = h * s   #area of trapizoid\n",
    "    return(area)   #returning value of area"
   ]
  },
  {
   "cell_type": "markdown",
   "metadata": {},
   "source": [
    "   # 4(a)"
   ]
  },
  {
   "cell_type": "code",
   "execution_count": 94,
   "metadata": {},
   "outputs": [
    {
     "name": "stdout",
     "output_type": "stream",
     "text": [
      "Integration by trapizoidal rule through first approximation is 0.42073549240394825\n"
     ]
    }
   ],
   "source": [
    "import math  #math library\n",
    "import numpy as np  #numpy library\n",
    "import matplotlib.pyplot as plt   #plotting library\n",
    "area = trapezint1(lambda x: math.sin(x), 0, 1)   #getting area by calling trapezoid1 function\n",
    "print(\"Integration by trapizoidal rule through first approximation is\", area)"
   ]
  },
  {
   "cell_type": "markdown",
   "metadata": {},
   "source": [
    "   # 4(b)"
   ]
  },
  {
   "cell_type": "code",
   "execution_count": 95,
   "metadata": {},
   "outputs": [
    {
     "data": {
      "image/png": "[encoded data removed]",
      "text/plain": [
       "<Figure size 432x288 with 1 Axes>"
      ]
     },
     "metadata": {
      "needs_background": "light"
     },
     "output_type": "display_data"
    }
   ],
   "source": [
    "import math\n",
    "import numpy as np\n",
    "import matplotlib.pyplot as plt\n",
    "x = np.linspace(0, 1, 11)   #creating multiple values of b\n",
    "z = np.zeros(11)   #initializing array\n",
    "for i in range(len(x)):\n",
    "    m = x[i]\n",
    "    y = trapezint1(lambda m: math.sin(m), 0, m)   #calculating area for different b values\n",
    "    z[i] = y  #appending to array z of area\n",
    "\n",
    "plt.close()\n",
    "plt.figure()\n",
    "plt.plot(x, z, 'r')   #plotting with red line\n",
    "plt.xlabel('b')   #labeling x-axis\n",
    "plt.ylabel('trapezint1(f,a,b)')\n",
    "plt.title('b vs trapezint(f,a,b)')   #labeling title\n",
    "plt.show()"
   ]
  },
  {
   "cell_type": "markdown",
   "metadata": {},
   "source": [
    "# Problem 5"
   ]
  },
  {
   "cell_type": "markdown",
   "metadata": {},
   "source": [
    "# 5(a)"
   ]
  },
  {
   "cell_type": "code",
   "execution_count": 96,
   "metadata": {},
   "outputs": [],
   "source": [
    "def find_swear_words():\n",
    "    \n",
    "    filehandle2 = open('twitter_data.txt', encoding='utf-8')   #opening twitter_data file with utf-8 encoding\n",
    "    line_content2 = filehandle2.readlines()   #read line by line\n",
    "    filehandle2.close()\n",
    "    \n",
    "    filehandle1 = open('swear_words.txt')   #opening swear_word file\n",
    "    line_content1 = filehandle1.readlines()   #reading swear words\n",
    "    \n",
    "    new = []\n",
    "    for i in line_content1:\n",
    "        for line in line_content2:\n",
    "            if i in line:  #checking if swear words in tweet\n",
    "                new.append(line)  #appending the tweets with swear words\n",
    "    filehandle1.close()   #close file\n",
    "    \n",
    "    offensive_tweet = open('potentially_offensive_tweets.txt', 'w+')   #creating file o save offensive tweets\n",
    "    for i in new:\n",
    "        offensive_tweet.write(i + \"\\n\")   #writing offensive tweets in file\n",
    "    offensive_tweet.close()\n",
    "      \n",
    "find_swear_words()"
   ]
  },
  {
   "cell_type": "markdown",
   "metadata": {},
   "source": [
    "# 5(b)"
   ]
  },
  {
   "cell_type": "code",
   "execution_count": 97,
   "metadata": {},
   "outputs": [],
   "source": [
    "def find_topic_trend(N):\n",
    "    \n",
    "    file = open('twitter_data.txt', encoding='utf-8')\n",
    "    content = file.read()\n",
    "    words = content.split()  #split file content to store as words\n",
    "    filehandle2.close()\n",
    "    \n",
    "    new = []\n",
    "    for i in words:\n",
    "        if \"#\" in i:   #check for hashtags\n",
    "            new.append(i)   #store words with hashtags\n",
    "    \n",
    "    dic_new ={}   #new dictionary\n",
    "    for i in new:\n",
    "        c = new.count(i)  #counting number of times, a hashtag was used\n",
    "        dic_new[c] = i   #storing to dictionary\n",
    "    sort_dic_new = sorted(dic_new.items(), key=lambda x: x[0], reverse=True)   #sorting dictionary by count number in decending order\n",
    "    \n",
    "    top_hashtags = open('top_hashtags.txt', 'w+')  #creating top hashtags file\n",
    "\n",
    "    for i in range(N):\n",
    "        top_hashtags.write(str(sort_dic_new[i]) + \"\\n\")  #writing number of top hashtags required,in file\n",
    "    top_hashtags.close()"
   ]
  },
  {
   "cell_type": "code",
   "execution_count": 98,
   "metadata": {},
   "outputs": [],
   "source": [
    "find_topic_trend(4)"
   ]
  },
  {
   "cell_type": "code",
   "execution_count": null,
   "metadata": {},
   "outputs": [],
   "source": []
  }
 ],
 "metadata": {
  "kernelspec": {
   "display_name": "Python 3",
   "language": "python",
   "name": "python3"
  },
  "language_info": {
   "codemirror_mode": {
    "name": "ipython",
    "version": 3
   },
   "file_extension": ".py",
   "mimetype": "text/x-python",
   "name": "python",
   "nbconvert_exporter": "python",
   "pygments_lexer": "ipython3",
   "version": "3.7.3"
  }
 },
 "nbformat": 4,
 "nbformat_minor": 2
}
